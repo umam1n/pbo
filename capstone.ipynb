{
  "nbformat": 4,
  "nbformat_minor": 0,
  "metadata": {
    "colab": {
      "provenance": [],
      "authorship_tag": "ABX9TyP/g2aTh30vBN5C6HZOuIae",
      "include_colab_link": true
    },
    "kernelspec": {
      "name": "python3",
      "display_name": "Python 3"
    },
    "language_info": {
      "name": "python"
    }
  },
  "cells": [
    {
      "cell_type": "markdown",
      "metadata": {
        "id": "view-in-github",
        "colab_type": "text"
      },
      "source": [
        "<a href=\"https://colab.research.google.com/github/umam1n/pbo/blob/main/capstone.ipynb\" target=\"_parent\"><img src=\"https://colab.research.google.com/assets/colab-badge.svg\" alt=\"Open In Colab\"/></a>"
      ]
    },
    {
      "cell_type": "code",
      "execution_count": null,
      "metadata": {
        "colab": {
          "base_uri": "https://localhost:8080/",
          "height": 488
        },
        "id": "efv_p9kLLUCX",
        "outputId": "394117af-24a8-48d1-c440-54b37c6772cc"
      },
      "outputs": [
        {
          "output_type": "stream",
          "name": "stderr",
          "text": [
            "\r[*********************100%***********************]  1 of 1 completed\n",
            "ERROR:yfinance:\n",
            "1 Failed download:\n",
            "ERROR:yfinance:['BBRI.JK']: YFRateLimitError('Too Many Requests. Rate limited. Try after a while.')\n",
            "[*********************100%***********************]  1 of 1 completed\n",
            "ERROR:yfinance:\n",
            "1 Failed download:\n",
            "ERROR:yfinance:['TLKM.JK']: YFRateLimitError('Too Many Requests. Rate limited. Try after a while.')\n",
            "[*********************100%***********************]  1 of 1 completed\n",
            "ERROR:yfinance:\n",
            "1 Failed download:\n",
            "ERROR:yfinance:['ANTM.JK']: YFRateLimitError('Too Many Requests. Rate limited. Try after a while.')\n",
            "[*********************100%***********************]  1 of 1 completed\n",
            "ERROR:yfinance:\n",
            "1 Failed download:\n",
            "ERROR:yfinance:['ASII.JK']: YFRateLimitError('Too Many Requests. Rate limited. Try after a while.')\n"
          ]
        },
        {
          "output_type": "error",
          "ename": "ValueError",
          "evalue": "No data found for ['BBRI.JK', 'TLKM.JK', 'ANTM.JK', 'ASII.JK']. Check ticker symbols or try different stocks.",
          "traceback": [
            "\u001b[0;31m---------------------------------------------------------------------------\u001b[0m",
            "\u001b[0;31mValueError\u001b[0m                                Traceback (most recent call last)",
            "\u001b[0;32m<ipython-input-1-31ad05ced26a>\u001b[0m in \u001b[0;36m<cell line: 0>\u001b[0;34m()\u001b[0m\n\u001b[1;32m     24\u001b[0m \u001b[0;31m# Check if data is empty for any stock\u001b[0m\u001b[0;34m\u001b[0m\u001b[0;34m\u001b[0m\u001b[0m\n\u001b[1;32m     25\u001b[0m \u001b[0;32mif\u001b[0m \u001b[0mdf\u001b[0m\u001b[0;34m.\u001b[0m\u001b[0mempty\u001b[0m\u001b[0;34m:\u001b[0m\u001b[0;34m\u001b[0m\u001b[0;34m\u001b[0m\u001b[0m\n\u001b[0;32m---> 26\u001b[0;31m     \u001b[0;32mraise\u001b[0m \u001b[0mValueError\u001b[0m\u001b[0;34m(\u001b[0m\u001b[0;34mf\"No data found for {tickers}. Check ticker symbols or try different stocks.\"\u001b[0m\u001b[0;34m)\u001b[0m\u001b[0;34m\u001b[0m\u001b[0;34m\u001b[0m\u001b[0m\n\u001b[0m\u001b[1;32m     27\u001b[0m \u001b[0;34m\u001b[0m\u001b[0m\n\u001b[1;32m     28\u001b[0m \u001b[0;31m# Extract closing prices for each stock\u001b[0m\u001b[0;34m\u001b[0m\u001b[0;34m\u001b[0m\u001b[0m\n",
            "\u001b[0;31mValueError\u001b[0m: No data found for ['BBRI.JK', 'TLKM.JK', 'ANTM.JK', 'ASII.JK']. Check ticker symbols or try different stocks."
          ]
        }
      ],
      "source": [
        "import time\n",
        "import yfinance as yf\n",
        "import pandas as pd\n",
        "import numpy as np\n",
        "import matplotlib.pyplot as plt\n",
        "from sklearn.preprocessing import MinMaxScaler\n",
        "from tensorflow.keras.models import Sequential\n",
        "from tensorflow.keras.layers import LSTM, Dense, Dropout\n",
        "\n",
        "tickers = [\"BBRI.JK\", \"TLKM.JK\", \"ANTM.JK\", \"ASII.JK\"]\n",
        "df = pd.DataFrame()\n",
        "\n",
        "for ticker in tickers:\n",
        "       try:\n",
        "           data = yf.download(ticker, start=\"2021-01-01\", end=\"2025-05-01\", auto_adjust=False)\n",
        "           df[ticker] = data['Close']  # Store closing prices for each ticker\n",
        "           time.sleep(5)  # Wait for 5 seconds before the next request\n",
        "       except yf.YFRateLimitError:\n",
        "           print(f\"Rate limited for {ticker}. Retrying in 60 seconds...\")\n",
        "           time.sleep(60)  # Wait for 60 seconds and try again\n",
        "           data = yf.download(ticker, start=\"2021-01-01\", end=\"2025-04-01\", auto_adjust=False)\n",
        "           df[ticker] = data['Close']\n",
        "\n",
        "# Check if data is empty for any stock\n",
        "if df.empty:\n",
        "    raise ValueError(f\"No data found for {tickers}. Check ticker symbols or try different stocks.\")\n",
        "\n",
        "# Extract closing prices for each stock\n",
        "df_close = df['Close'].dropna()  # Drop missing values\n",
        "\n",
        "# Normalize data for LSTM training\n",
        "scaler = MinMaxScaler(feature_range=(0, 1))\n",
        "data_scaled = scaler.fit_transform(df_close)"
      ]
    },
    {
      "cell_type": "code",
      "source": [
        "# Create sequences for LSTM training\n",
        "def create_sequences(data, time_steps=50):\n",
        "    X, y = [], []\n",
        "    for i in range(len(data) - time_steps):\n",
        "        X.append(data[i:i+time_steps])\n",
        "        y.append(data[i+time_steps])\n",
        "    return np.array(X), np.array(y)\n",
        "\n",
        "time_steps = 50\n",
        "X, y = create_sequences(data_scaled, time_steps)\n",
        "\n",
        "# Reshape data for LSTM input\n",
        "X = np.reshape(X, (X.shape[0], X.shape[1], len(tickers)))  # Multiple stocks as features"
      ],
      "metadata": {
        "id": "GYakwJXYLnmL"
      },
      "execution_count": null,
      "outputs": []
    },
    {
      "cell_type": "code",
      "source": [
        "# Split data into training (80%) and testing (20%)\n",
        "split_idx = int(len(X) * 0.8)\n",
        "X_train, X_test = X[:split_idx], X[split_idx:]\n",
        "y_train, y_test = y[:split_idx], y[split_idx:]\n",
        "\n",
        "# Define LSTM model\n",
        "model = Sequential([\n",
        "    LSTM(units=50, return_sequences=True, input_shape=(time_steps, len(tickers))),\n",
        "    Dropout(0.2),\n",
        "    LSTM(units=50, return_sequences=True),\n",
        "    Dropout(0.2),\n",
        "    LSTM(units=50),\n",
        "    Dropout(0.2),\n",
        "    Dense(units=25),\n",
        "    Dense(units=len(tickers))  # One output per stock\n",
        "])\n",
        "\n",
        "# Compile model\n",
        "model.compile(optimizer='adam', loss='mean_squared_error')\n",
        "\n",
        "# Train model\n",
        "model.fit(X_train, y_train, epochs=50, batch_size=32)\n"
      ],
      "metadata": {
        "id": "6_nq8NROLpD4"
      },
      "execution_count": null,
      "outputs": []
    },
    {
      "cell_type": "code",
      "source": [
        "# Predict on test data\n",
        "y_pred = model.predict(X_test)\n",
        "\n",
        "# Inverse transform predictions to original scale\n",
        "y_pred_inv = scaler.inverse_transform(y_pred)\n",
        "y_test_inv = scaler.inverse_transform(y_test)\n",
        "\n",
        "# Plot actual vs predicted prices for each stock\n",
        "plt.figure(figsize=(14, 7))\n",
        "for i, ticker in enumerate(tickers):\n",
        "    plt.plot(df_close.index[-len(y_test):], y_test_inv[:, i], label=f'Actual {ticker}', linestyle='dotted')\n",
        "    plt.plot(df_close.index[-len(y_pred):], y_pred_inv[:, i], label=f'Predicted {ticker}')\n",
        "plt.xlabel(\"Date\")\n",
        "plt.ylabel(\"Stock Price\")\n",
        "plt.legend()\n",
        "plt.show()"
      ],
      "metadata": {
        "id": "_SEEB5XjLrNG"
      },
      "execution_count": null,
      "outputs": []
    },
    {
      "cell_type": "code",
      "source": [
        "# Get last known stock prices to start forecasting\n",
        "future_input = data_scaled[-time_steps:]  # Last 50 days\n",
        "future_input = np.reshape(future_input, (1, time_steps, len(tickers)))  # Reshape for LSTM\n",
        "\n",
        "# Predict next 100 days\n",
        "future_predictions = []\n",
        "for _ in range(100):  # Predict for 100 future days\n",
        "    predicted_stock = model.predict(future_input)\n",
        "    future_predictions.append(predicted_stock[0])\n",
        "\n",
        "    # Append new prediction and remove oldest input to maintain sequence length\n",
        "    future_input = np.append(future_input[:, 1:, :], [[predicted_stock[0]]], axis=1)\n",
        "\n",
        "# Convert predictions back to original scale\n",
        "future_predictions = scaler.inverse_transform(np.array(future_predictions))\n",
        "\n",
        "# Generate future dates\n",
        "future_dates = pd.date_range(start=df_close.index[-1], periods=100, freq='B')  # Business days\n",
        "\n",
        "# Plot future predictions\n",
        "plt.figure(figsize=(14, 7))\n",
        "for i, ticker in enumerate(tickers):\n",
        "    plt.plot(future_dates, future_predictions[:, i], label=f'Predicted {ticker}', linestyle='dashed')\n",
        "\n",
        "plt.xlabel(\"Date\")\n",
        "plt.ylabel(\"Stock Price\")\n",
        "plt.legend()\n",
        "plt.title(\"Predicted Stock Prices for Next 100 Days\")\n",
        "plt.show()\n"
      ],
      "metadata": {
        "id": "mfrp8aaQOuvT"
      },
      "execution_count": null,
      "outputs": []
    }
  ]
}